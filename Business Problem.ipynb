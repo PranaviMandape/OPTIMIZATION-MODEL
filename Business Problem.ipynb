{
 "cells": [
  {
   "cell_type": "code",
   "execution_count": 1,
   "id": "f6f7c711-8862-42fd-ab6d-16245e1f771c",
   "metadata": {},
   "outputs": [],
   "source": [
    "# Business Problem\n",
    "\n",
    "# We are a pharmaceutical distributor aiming to maximize profit by allocating limited marketing budget or sales effort\n",
    "# across different drug categories. Each category has an assumed profit per unit.\n",
    "# Our goal is to decide how much effort to assign to each category to achieve maximum profit, ensuring diversification."
   ]
  },
  {
   "cell_type": "code",
   "execution_count": 3,
   "id": "1299dc90-401c-4eab-8448-cf79ebd5a766",
   "metadata": {},
   "outputs": [],
   "source": [
    "# Importing Libraries\n",
    "\n",
    "import pandas as pd\n",
    "import matplotlib.pyplot as plt\n",
    "from pulp import LpProblem, LpVariable, LpMaximize, lpSum, value\n"
   ]
  },
  {
   "cell_type": "code",
   "execution_count": 5,
   "id": "d91025d0-19f1-4f9f-8de0-40b540764e0e",
   "metadata": {},
   "outputs": [
    {
     "data": {
      "text/html": [
       "<div>\n",
       "<style scoped>\n",
       "    .dataframe tbody tr th:only-of-type {\n",
       "        vertical-align: middle;\n",
       "    }\n",
       "\n",
       "    .dataframe tbody tr th {\n",
       "        vertical-align: top;\n",
       "    }\n",
       "\n",
       "    .dataframe thead th {\n",
       "        text-align: right;\n",
       "    }\n",
       "</style>\n",
       "<table border=\"1\" class=\"dataframe\">\n",
       "  <thead>\n",
       "    <tr style=\"text-align: right;\">\n",
       "      <th></th>\n",
       "      <th>datum</th>\n",
       "      <th>M01AB</th>\n",
       "      <th>M01AE</th>\n",
       "      <th>N02BA</th>\n",
       "      <th>N02BE</th>\n",
       "      <th>N05B</th>\n",
       "      <th>N05C</th>\n",
       "      <th>R03</th>\n",
       "      <th>R06</th>\n",
       "    </tr>\n",
       "  </thead>\n",
       "  <tbody>\n",
       "    <tr>\n",
       "      <th>0</th>\n",
       "      <td>2014-01-31</td>\n",
       "      <td>127.69</td>\n",
       "      <td>99.090</td>\n",
       "      <td>152.100</td>\n",
       "      <td>878.030</td>\n",
       "      <td>354.0</td>\n",
       "      <td>50.0</td>\n",
       "      <td>112.0</td>\n",
       "      <td>48.2</td>\n",
       "    </tr>\n",
       "    <tr>\n",
       "      <th>1</th>\n",
       "      <td>2014-02-28</td>\n",
       "      <td>133.32</td>\n",
       "      <td>126.050</td>\n",
       "      <td>177.000</td>\n",
       "      <td>1001.900</td>\n",
       "      <td>347.0</td>\n",
       "      <td>31.0</td>\n",
       "      <td>122.0</td>\n",
       "      <td>36.2</td>\n",
       "    </tr>\n",
       "    <tr>\n",
       "      <th>2</th>\n",
       "      <td>2014-03-31</td>\n",
       "      <td>137.44</td>\n",
       "      <td>92.950</td>\n",
       "      <td>147.655</td>\n",
       "      <td>779.275</td>\n",
       "      <td>232.0</td>\n",
       "      <td>20.0</td>\n",
       "      <td>112.0</td>\n",
       "      <td>85.4</td>\n",
       "    </tr>\n",
       "    <tr>\n",
       "      <th>3</th>\n",
       "      <td>2014-04-30</td>\n",
       "      <td>113.10</td>\n",
       "      <td>89.475</td>\n",
       "      <td>130.900</td>\n",
       "      <td>698.500</td>\n",
       "      <td>209.0</td>\n",
       "      <td>18.0</td>\n",
       "      <td>97.0</td>\n",
       "      <td>73.7</td>\n",
       "    </tr>\n",
       "    <tr>\n",
       "      <th>4</th>\n",
       "      <td>2014-05-31</td>\n",
       "      <td>101.79</td>\n",
       "      <td>119.933</td>\n",
       "      <td>132.100</td>\n",
       "      <td>628.780</td>\n",
       "      <td>270.0</td>\n",
       "      <td>23.0</td>\n",
       "      <td>107.0</td>\n",
       "      <td>123.7</td>\n",
       "    </tr>\n",
       "  </tbody>\n",
       "</table>\n",
       "</div>"
      ],
      "text/plain": [
       "        datum   M01AB    M01AE    N02BA     N02BE   N05B  N05C    R03    R06\n",
       "0  2014-01-31  127.69   99.090  152.100   878.030  354.0  50.0  112.0   48.2\n",
       "1  2014-02-28  133.32  126.050  177.000  1001.900  347.0  31.0  122.0   36.2\n",
       "2  2014-03-31  137.44   92.950  147.655   779.275  232.0  20.0  112.0   85.4\n",
       "3  2014-04-30  113.10   89.475  130.900   698.500  209.0  18.0   97.0   73.7\n",
       "4  2014-05-31  101.79  119.933  132.100   628.780  270.0  23.0  107.0  123.7"
      ]
     },
     "execution_count": 5,
     "metadata": {},
     "output_type": "execute_result"
    }
   ],
   "source": [
    "# Load Dataset\n",
    "df = pd.read_csv(\"C:\\\\Users\\\\ASUS\\\\Downloads\\\\salesmonthly.csv\")\n",
    "\n",
    "# View first few rows\n",
    "df.head()"
   ]
  },
  {
   "cell_type": "code",
   "execution_count": 7,
   "id": "653359bd-e463-485f-b077-2229306ce5e8",
   "metadata": {},
   "outputs": [
    {
     "data": {
      "text/plain": [
       "M01AB    10499.440\n",
       "M01AE     8156.000\n",
       "N02BA     8051.459\n",
       "N02BE    62477.945\n",
       "N05B     18348.300\n",
       "N05C      1249.000\n",
       "R03      11737.250\n",
       "R06       6066.380\n",
       "dtype: float64"
      ]
     },
     "execution_count": 7,
     "metadata": {},
     "output_type": "execute_result"
    }
   ],
   "source": [
    "# Columns and profit margins\n",
    "\n",
    "categories = ['M01AB', 'M01AE', 'N02BA', 'N02BE', 'N05B', 'N05C', 'R03', 'R06']\n",
    "\n",
    "profit_margins = {\n",
    "    'M01AB': 12,\n",
    "    'M01AE': 10,\n",
    "    'N02BA': 15,\n",
    "    'N02BE': 8,\n",
    "    'N05B': 20,\n",
    "    'N05C': 18,\n",
    "    'R03': 14,\n",
    "    'R06': 9\n",
    "}\n",
    "\n",
    "# Calculate total sales per category (just for reference)\n",
    "\n",
    "total_sales = df[categories].sum()\n",
    "total_sales"
   ]
  },
  {
   "cell_type": "code",
   "execution_count": 9,
   "id": "06fde01f-d701-42bd-9de3-16999c5fec03",
   "metadata": {},
   "outputs": [],
   "source": [
    "# Define optimization model\n",
    "model = LpProblem(\"Maximize_Total_Profit\", LpMaximize)\n",
    "\n",
    "# Decision variables\n",
    "effort_vars = {cat: LpVariable(cat, lowBound=0) for cat in categories}\n",
    "\n",
    "# Objective function\n",
    "model += lpSum([profit_margins[cat] * effort_vars[cat] for cat in categories])"
   ]
  },
  {
   "cell_type": "code",
   "execution_count": 11,
   "id": "62fba975-7f68-43ff-a73c-ab6cfa453f07",
   "metadata": {},
   "outputs": [],
   "source": [
    "# Total budget constraint\n",
    "\n",
    "total_budget = 500\n",
    "model += lpSum([effort_vars[cat] for cat in categories]) <= total_budget"
   ]
  },
  {
   "cell_type": "code",
   "execution_count": 13,
   "id": "17029143-d8f4-4f74-a5df-261c9ec18ee2",
   "metadata": {},
   "outputs": [
    {
     "data": {
      "text/plain": [
       "1"
      ]
     },
     "execution_count": 13,
     "metadata": {},
     "output_type": "execute_result"
    }
   ],
   "source": [
    "# Add diversification constraints: min 20, max 100 per category\n",
    "\n",
    "for cat in categories:\n",
    "    model += effort_vars[cat] >= 20\n",
    "    model += effort_vars[cat] <= 100\n",
    "    \n",
    "# Solve\n",
    "model.solve()"
   ]
  },
  {
   "cell_type": "code",
   "execution_count": 15,
   "id": "cafc9389-8842-4308-ab7c-8a8c1d86411b",
   "metadata": {},
   "outputs": [
    {
     "name": "stdout",
     "output_type": "stream",
     "text": [
      "Status: 1\n",
      "\n",
      "Optimal Allocation per Category:\n",
      "M01AB: 40.00\n",
      "M01AE: 20.00\n",
      "N02BA: 100.00\n",
      "N02BE: 20.00\n",
      "N05B: 100.00\n",
      "N05C: 100.00\n",
      "R03: 100.00\n",
      "R06: 20.00\n",
      "\n",
      "Total Expected Profit: $ 7720.0\n"
     ]
    }
   ],
   "source": [
    "# Print results\n",
    "\n",
    "print(\"Status:\", model.status)\n",
    "print(\"\\nOptimal Allocation per Category:\")\n",
    "for cat in categories:\n",
    "    print(f\"{cat}: {effort_vars[cat].varValue:.2f}\")\n",
    "\n",
    "print(\"\\nTotal Expected Profit: $\", value(model.objective))"
   ]
  },
  {
   "cell_type": "code",
   "execution_count": 17,
   "id": "00f06f5d-dea1-43e2-871f-be38832ac19f",
   "metadata": {},
   "outputs": [
    {
     "data": {
      "text/html": [
       "<div>\n",
       "<style scoped>\n",
       "    .dataframe tbody tr th:only-of-type {\n",
       "        vertical-align: middle;\n",
       "    }\n",
       "\n",
       "    .dataframe tbody tr th {\n",
       "        vertical-align: top;\n",
       "    }\n",
       "\n",
       "    .dataframe thead th {\n",
       "        text-align: right;\n",
       "    }\n",
       "</style>\n",
       "<table border=\"1\" class=\"dataframe\">\n",
       "  <thead>\n",
       "    <tr style=\"text-align: right;\">\n",
       "      <th></th>\n",
       "      <th>Category</th>\n",
       "      <th>Effort_Allocated</th>\n",
       "      <th>Profit_Per_Unit</th>\n",
       "      <th>Total_Profit</th>\n",
       "    </tr>\n",
       "  </thead>\n",
       "  <tbody>\n",
       "    <tr>\n",
       "      <th>4</th>\n",
       "      <td>N05B</td>\n",
       "      <td>100.0</td>\n",
       "      <td>20</td>\n",
       "      <td>2000.0</td>\n",
       "    </tr>\n",
       "    <tr>\n",
       "      <th>5</th>\n",
       "      <td>N05C</td>\n",
       "      <td>100.0</td>\n",
       "      <td>18</td>\n",
       "      <td>1800.0</td>\n",
       "    </tr>\n",
       "    <tr>\n",
       "      <th>2</th>\n",
       "      <td>N02BA</td>\n",
       "      <td>100.0</td>\n",
       "      <td>15</td>\n",
       "      <td>1500.0</td>\n",
       "    </tr>\n",
       "    <tr>\n",
       "      <th>6</th>\n",
       "      <td>R03</td>\n",
       "      <td>100.0</td>\n",
       "      <td>14</td>\n",
       "      <td>1400.0</td>\n",
       "    </tr>\n",
       "    <tr>\n",
       "      <th>0</th>\n",
       "      <td>M01AB</td>\n",
       "      <td>40.0</td>\n",
       "      <td>12</td>\n",
       "      <td>480.0</td>\n",
       "    </tr>\n",
       "    <tr>\n",
       "      <th>1</th>\n",
       "      <td>M01AE</td>\n",
       "      <td>20.0</td>\n",
       "      <td>10</td>\n",
       "      <td>200.0</td>\n",
       "    </tr>\n",
       "    <tr>\n",
       "      <th>7</th>\n",
       "      <td>R06</td>\n",
       "      <td>20.0</td>\n",
       "      <td>9</td>\n",
       "      <td>180.0</td>\n",
       "    </tr>\n",
       "    <tr>\n",
       "      <th>3</th>\n",
       "      <td>N02BE</td>\n",
       "      <td>20.0</td>\n",
       "      <td>8</td>\n",
       "      <td>160.0</td>\n",
       "    </tr>\n",
       "  </tbody>\n",
       "</table>\n",
       "</div>"
      ],
      "text/plain": [
       "  Category  Effort_Allocated  Profit_Per_Unit  Total_Profit\n",
       "4     N05B             100.0               20        2000.0\n",
       "5     N05C             100.0               18        1800.0\n",
       "2    N02BA             100.0               15        1500.0\n",
       "6      R03             100.0               14        1400.0\n",
       "0    M01AB              40.0               12         480.0\n",
       "1    M01AE              20.0               10         200.0\n",
       "7      R06              20.0                9         180.0\n",
       "3    N02BE              20.0                8         160.0"
      ]
     },
     "execution_count": 17,
     "metadata": {},
     "output_type": "execute_result"
    }
   ],
   "source": [
    "# Insights\n",
    "\n",
    "results_df = pd.DataFrame({\n",
    "    'Category': categories,\n",
    "    'Effort_Allocated': [effort_vars[cat].varValue for cat in categories],\n",
    "    'Profit_Per_Unit': [profit_margins[cat] for cat in categories],\n",
    "    'Total_Profit': [profit_margins[cat] * effort_vars[cat].varValue for cat in categories]\n",
    "})\n",
    "\n",
    "results_df.sort_values(by=\"Total_Profit\", ascending=False)"
   ]
  },
  {
   "cell_type": "code",
   "execution_count": 23,
   "id": "5bb31d29-70c5-4fec-8d3d-d45715882871",
   "metadata": {},
   "outputs": [
    {
     "data": {
      "image/png": "[encoded data removed]",
      "text/plain": [
       "<Figure size 1000x600 with 1 Axes>"
      ]
     },
     "metadata": {},
     "output_type": "display_data"
    }
   ],
   "source": [
    "plt.figure(figsize=(10, 6))\n",
    "plt.bar(results_df['Category'], results_df['Total_Profit'], color='pink')\n",
    "plt.title('Expected Profit by Drug Category')\n",
    "plt.xlabel('Drug Category')\n",
    "plt.ylabel('Total Profit ($)')\n",
    "plt.show()"
   ]
  },
  {
   "cell_type": "code",
   "execution_count": null,
   "id": "17ce4879-3583-419a-ba67-028bf869d737",
   "metadata": {},
   "outputs": [],
   "source": []
  }
 ],
 "metadata": {
  "kernelspec": {
   "display_name": "Python [conda env:base] *",
   "language": "python",
   "name": "conda-base-py"
  },
  "language_info": {
   "codemirror_mode": {
    "name": "ipython",
    "version": 3
   },
   "file_extension": ".py",
   "mimetype": "text/x-python",
   "name": "python",
   "nbconvert_exporter": "python",
   "pygments_lexer": "ipython3",
   "version": "3.12.7"
  }
 },
 "nbformat": 4,
 "nbformat_minor": 5
}
